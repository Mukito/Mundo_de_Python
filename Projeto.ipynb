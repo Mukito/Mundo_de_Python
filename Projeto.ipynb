# Variáveis e Tipos de Dados em Python

#### Resumo
Uma variável é um espaço na memória do computador destinado a um dado que é alterado durante a execução do algoritmo. 
Para funcionar corretamente, as variáveis precisam ser definidas por nomes e tipos. 
Nesta aula iremos estudar os tipos de variáveis e suas diferenças.

